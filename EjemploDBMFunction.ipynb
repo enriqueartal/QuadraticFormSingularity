{
 "cells": [
  {
   "cell_type": "markdown",
   "metadata": {},
   "source": [
    "In this notebook we give a way to compute a matrix of $Q$, for the bilinear form introduced in *On a quadratic form associated to the nilpotent part of the monodromy of a  curve* by L. Alanis, E. Artal, C. Bonatti, X. Gómez-Mont, M. González Villa and, P. Portilla. We treat here Example 4.6 in the paper.\n",
    "\n",
    "The input is the germ of the plane curve singularity given by $f_{a,b}(x,y)=((y^2-x^3)^2-x^{b+6}-4yx^{(b+9)/2})((x^2-y^5)^2-y^{a+10}-4xy^{(a+15)/2})$, $(a,b)=(5,11)$; $a=2\\beta+1$, $b=2\\alpha+1$. It is introduced via the adjacency matrix $A$ of the dual graph of the minimal dual resolution.\n",
    "The yellow vertices are the arrows of the graph. We color the vertices that *survive* in the dual graph of the semistable normalization. We introduce manually the position of the vertices to have a better plot. \n",
    "<!--Though it is an unoriented graph, we consider the edges oriented lexicographic, except the arrows, where the arrow-head is the end point. The arrows in this example are the first and the last edges, to keep the symmetry.-->"
   ]
  },
  {
   "cell_type": "code",
   "execution_count": 35,
   "metadata": {},
   "outputs": [],
   "source": [
    "def plotsubgraph(lista):\n",
    "    lista1=[i.abs().str() for i in lista]\n",
    "    aristas=[u for u in NS.edges() if u[2] in lista1]\n",
    "    vrt1=[(u[0],u[1]) for u in aristas]\n",
    "    vrt=list(Set(flatten(vrt1)))\n",
    "    H=NS.subgraph(edges=aristas, algorithm='delete')\n",
    "    return H.plot(edge_labels=True,vertex_colors=NScolor)\n",
    "\n",
    "\n",
    "def vct(m,lista):\n",
    "    V=ZZ^m\n",
    "    v=V(0)\n",
    "    for i in lista:\n",
    "        if i>0:\n",
    "            v+=V.gen(i-1)\n",
    "        if i<0:\n",
    "            v=v-V.gen(-i-1)\n",
    "    return v\n",
    "\n",
    "def Qform(alpha,beta,dibujos=False):\n",
    "    nres=12+alpha+beta\n",
    "    print(nres)\n",
    "    A=Matrix(nres)\n",
    "    for j in [0..4+alpha+beta]:\n",
    "        A[j,j+1]=1\n",
    "    A[0,6+alpha+beta]=A[beta+1,7+alpha+beta]=A[beta+4,8+alpha+beta]=A[5+alpha+beta,9+alpha+beta]=1\n",
    "    A[0,10+alpha+beta]=A[5+alpha+beta,11+alpha+beta]=1\n",
    "    A=A+A.transpose()\n",
    "    G=Graph(A)\n",
    "    if dibujos:\n",
    "        Gv={j:(2*j,0) for j in [0..5+alpha+beta]}\n",
    "        Gv[10+alpha+beta]=(-2,0)\n",
    "        Gv[6+alpha+beta]=(0,2)\n",
    "        Gv[7+alpha+beta]=(2*(beta+1),2)\n",
    "        Gv[8+alpha+beta]=(2*(beta+4),2)\n",
    "        Gv[9+alpha+beta]=(2*(5+alpha+beta),2)\n",
    "        Gv[11+alpha+beta]=(2*(6+alpha+beta),0)\n",
    "        G.set_pos(Gv)\n",
    "        Gcolor={'yellow':[10+alpha+beta,11+alpha+beta],'white':[1..beta]+[beta+2,beta+3]+[beta+5..5+alpha+beta]+[6+alpha+beta..9+alpha+beta], 'green': [0], 'blue':[beta+1], 'magenta': [beta+4], 'turquoise' : [5+alpha+beta]}\n",
    "        show(G.plot(vertex_colors=Gcolor,figsize=10))\n",
    "    Vmult=[58+4*beta]+[28+2*beta,26+2*beta..28]+[12,8]+[20,22..20+2*alpha]+[42+4*alpha,29+2*beta,14,10,21+2*alpha,1,1]\n",
    "    if dibujos:\n",
    "        print(Vmult)\n",
    "    A1=copy(A)\n",
    "    for i in range(nres):\n",
    "        A1[i,i]=Vmult[i]\n",
    "    Bamboos={1:(10+alpha+beta,0),2:tuple([0..beta+1]),3:tuple([beta+1,..,beta+4]),4:tuple([beta+4,..,5+alpha+beta]), 5:(5+alpha+beta,11+alpha+beta)}\n",
    "    e=lcm([58+4*beta,28,20,42+4*alpha])\n",
    "    if dibujos:\n",
    "        for j in Bamboos.keys():\n",
    "            b=Bamboos[j]\n",
    "            u=len(b)\n",
    "            for k in range(u-1):\n",
    "                G.set_edge_label(b[k],b[k+1],j.str())\n",
    "        Gbamboos=G.plot(edge_labels=True,vertex_colors=Gcolor,figsize=10)\n",
    "        show(Gbamboos)\n",
    "    ScrewNumber={}\n",
    "    for j in Bamboos.keys():\n",
    "        b=Bamboos[j]\n",
    "        d=gcd([Vmult[i] for i in b])\n",
    "        #print(d)\n",
    "        l=len(b)\n",
    "        a=sum([1/Vmult[b[i]]/Vmult[b[i+1]] for i in (0..l-2)])\n",
    "        ScrewNumber[j]=e*a*d\n",
    "    if dibujos:\n",
    "        for j in Bamboos.keys():\n",
    "            b=Bamboos[j]\n",
    "            u=len(b)\n",
    "            for k in range(u-1):\n",
    "                G.set_edge_label(b[k],b[k+1],'('+j.str()+','+ScrewNumber[j].str()+')')\n",
    "        GbamboosSN=G.plot(edge_labels=True,vertex_colors=Gcolor,figsize=15)\n",
    "        show(GbamboosSN)\n",
    "    L0=[(0,1),(0,2),(0,6),(1,3),(1,3),(2,4),(2,4),(3,5),(4,5),(5,7)]\n",
    "    m=len(L0)\n",
    "    if dibujos:\n",
    "        L=[]\n",
    "        j=0\n",
    "        for u in [1..m]:\n",
    "            a,b=L0[u-1]\n",
    "            j+=1\n",
    "            L.append((a,b,j.str()))\n",
    "        NS=Graph(L,multiedges=True)\n",
    "        NSv={0:(0,0), 1:(2,1), 2:(3,-1), 3:(7,1), 4:(6,-1), 5:(9,0), 6: (-2,0), 7: (11,0)}\n",
    "        NS.set_pos(NSv)\n",
    "        NScolor={'yellow': [6,7], 'green': [0], 'blue': [1,2], 'magenta': [3,4], 'turquoise': [5]}\n",
    "        NSplot=NS.plot(edge_labels=True,vertex_colors=NScolor)\n",
    "        show(NSplot)\n",
    "        show(Gbamboos)\n",
    "    Edges2Bamboos={1:2, 2:2, 3:1, 10:5}\n",
    "    for i in [4..7]:\n",
    "        Edges2Bamboos[i]=3\n",
    "    for i in [8,9]:\n",
    "        Edges2Bamboos[i]=4\n",
    "    D=vector([ScrewNumber[Edges2Bamboos[i]] for i in [1..m]])\n",
    "    QE=diagonal_matrix(D)\n",
    "    Base=[(4,-5),(1,5,8,-9,-6,-2),(6,-7),(-3,1,4,8,10)]\n",
    "    if dibujos:\n",
    "        for u in Base:\n",
    "            print(u)\n",
    "            show(plotsubgraph(u))\n",
    "            print(\"\\n\")\n",
    "    V=ZZ^m\n",
    "    Q=Matrix(len(Base),lambda i,j:vct(m,Base[i])*QE*vct(m,Base[j]))\n",
    "    return (Q)"
   ]
  },
  {
   "cell_type": "code",
   "execution_count": 36,
   "metadata": {},
   "outputs": [
    {
     "name": "stdout",
     "output_type": "stream",
     "text": [
      "21\n"
     ]
    },
    {
     "data": {
      "text/plain": [
       "3^9 * 5^2 * 7^2 * 11^2 * 41^3 * 563"
      ]
     },
     "execution_count": 36,
     "metadata": {},
     "output_type": "execute_result"
    }
   ],
   "source": [
    "Qform(3,6).det().factor()"
   ]
  },
  {
   "cell_type": "code",
   "execution_count": 24,
   "metadata": {},
   "outputs": [
    {
     "data": {
      "text/plain": [
       "3^2 * 5^4 * 7^2 * 11^2 * 43^3 * 59"
      ]
     },
     "execution_count": 24,
     "metadata": {},
     "output_type": "execute_result"
    }
   ],
   "source": [
    "Qform(2,7).det().factor()"
   ]
  },
  {
   "cell_type": "code",
   "execution_count": 38,
   "metadata": {},
   "outputs": [
    {
     "name": "stdout",
     "output_type": "stream",
     "text": [
      "17\n",
      "17\n"
     ]
    },
    {
     "data": {
      "text/plain": [
       "True"
      ]
     },
     "execution_count": 38,
     "metadata": {},
     "output_type": "execute_result"
    }
   ],
   "source": [
    "Qform(5,0).det().factor()==Qform(4,1).det().factor()"
   ]
  },
  {
   "cell_type": "code",
   "execution_count": 39,
   "metadata": {},
   "outputs": [],
   "source": [
    "def pareja(alpha,beta):\n",
    "    a,b=2*alpha+1,2*beta+1\n",
    "    c,d=b+8,a-8\n",
    "    return ((c-1)/2,(d-1)/2)"
   ]
  },
  {
   "cell_type": "code",
   "execution_count": 40,
   "metadata": {},
   "outputs": [
    {
     "name": "stdout",
     "output_type": "stream",
     "text": [
      "26\n",
      "11 19            5^2 * 7^4 * 11^2 * 17 * 31^3 * 47^3\n",
      "26\n",
      "27 3            5^2 * 7^4 * 11^2 * 17 * 31^3 * 47^3\n",
      "1\n",
      "%%%%%%%%%%%\n",
      "27\n",
      "11 21            3 * 5^2 * 7^4 * 11^2 * 31^3 * 293\n",
      "27\n",
      "29 3            3 * 5^2 * 7^4 * 11^2 * 31^3 * 293\n",
      "1\n",
      "%%%%%%%%%%%\n",
      "28\n",
      "11 23            3^3 * 5^4 * 7^2 * 11^2 * 17^3 * 31^3 * 37\n",
      "28\n",
      "31 3            3^3 * 5^4 * 7^2 * 11^2 * 17^3 * 31^3 * 37\n",
      "1\n",
      "%%%%%%%%%%%\n",
      "29\n",
      "11 25            5^2 * 7^2 * 11^2 * 31^3 * 53^3 * 971\n",
      "29\n",
      "33 3            5^2 * 7^2 * 11^2 * 31^3 * 53^3 * 971\n",
      "1\n",
      "%%%%%%%%%%%\n",
      "30\n",
      "11 27            3^2 * 5 * 7^2 * 11^5 * 31^3 * 113\n",
      "30\n",
      "35 3            3^2 * 5 * 7^2 * 11^5 * 31^3 * 113\n",
      "1\n",
      "%%%%%%%%%%%\n",
      "31\n",
      "11 29            3^3 * 5^2 * 7^2 * 11^2 * 19^3 * 31^3 * 1063\n",
      "31\n",
      "37 3            3^3 * 5^2 * 7^2 * 11^2 * 19^3 * 31^3 * 1063\n",
      "1\n",
      "%%%%%%%%%%%\n",
      "32\n",
      "11 31            5^2 * 7^2 * 11^2 * 31^3 * 59^3 * 1109\n",
      "32\n",
      "39 3            5^2 * 7^2 * 11^2 * 31^3 * 59^3 * 1109\n",
      "1\n",
      "%%%%%%%%%%%\n",
      "33\n",
      "11 33            3 * 5^3 * 7^3 * 11^3 * 31^3 * 61^3\n",
      "33\n",
      "41 3            3 * 5^3 * 7^3 * 11^3 * 31^3 * 61^3\n",
      "1\n",
      "%%%%%%%%%%%\n",
      "34\n",
      "11 35            3^6 * 5^2 * 7 * 11^2 * 31^3 * 1201\n",
      "34\n",
      "43 3            3^6 * 5^2 * 7 * 11^2 * 31^3 * 1201\n",
      "1\n",
      "%%%%%%%%%%%\n",
      "35\n",
      "11 37            5 * 7^2 * 11^2 * 13^3 * 29 * 31^3 * 43\n",
      "35\n",
      "45 3            5 * 7^2 * 11^2 * 13^3 * 29 * 31^3 * 43\n",
      "1\n",
      "%%%%%%%%%%%\n",
      "36\n",
      "11 39            3 * 5^2 * 7^2 * 11^2 * 31^3 * 67^3 * 431\n",
      "36\n",
      "47 3            3 * 5^2 * 7^2 * 11^2 * 31^3 * 67^3 * 431\n",
      "1\n",
      "%%%%%%%%%%%\n",
      "37\n",
      "11 41            3^3 * 5^2 * 7^2 * 11^2 * 13 * 23^3 * 31^3 * 103\n",
      "37\n",
      "49 3            3^3 * 5^2 * 7^2 * 11^2 * 13 * 23^3 * 31^3 * 103\n",
      "1\n",
      "%%%%%%%%%%%\n"
     ]
    }
   ],
   "source": [
    "p=5\n",
    "for n in (9..20):\n",
    "    d1=Qform(p,n).det()\n",
    "    print(2*p+1,2*n+1,'          ',d1.factor())\n",
    "    alpha,beta=pareja(p,n)\n",
    "    d2=Qform(alpha,beta).det()\n",
    "    print(2*alpha+1,2*beta+1,'          ',d2.factor())\n",
    "    print((d2/d1).factor())\n",
    "    print('%%%%%%%%%%%')"
   ]
  },
  {
   "cell_type": "code",
   "execution_count": null,
   "metadata": {},
   "outputs": [],
   "source": []
  }
 ],
 "metadata": {
  "kernelspec": {
   "display_name": "SageMath 9.5.beta4",
   "language": "sage",
   "name": "sagemath"
  },
  "language_info": {
   "codemirror_mode": {
    "name": "ipython",
    "version": 3
   },
   "file_extension": ".py",
   "mimetype": "text/x-python",
   "name": "python",
   "nbconvert_exporter": "python",
   "pygments_lexer": "ipython3",
   "version": "3.9.7"
  },
  "widgets": {
   "application/vnd.jupyter.widget-state+json": {
    "state": {},
    "version_major": 2,
    "version_minor": 0
   }
  }
 },
 "nbformat": 4,
 "nbformat_minor": 4
}
