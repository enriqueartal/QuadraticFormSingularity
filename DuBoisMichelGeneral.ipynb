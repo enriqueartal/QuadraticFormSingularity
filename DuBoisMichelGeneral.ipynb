{
 "cells": [
  {
   "cell_type": "code",
   "execution_count": 1,
   "id": "54e21acf-e2d2-4257-b74e-5a7324e02162",
   "metadata": {},
   "outputs": [
    {
     "data": {
      "text/html": [
       "<html>\\[\\newcommand{\\Bold}[1]{\\mathbf{#1}}\\Bold{Q}[\\alpha, \\beta, a, b]\\]</html>"
      ],
      "text/latex": [
       "$$\\newcommand{\\Bold}[1]{\\mathbf{#1}}\\Bold{Q}[\\alpha, \\beta, a, b]$$"
      ],
      "text/plain": [
       "Multivariate Polynomial Ring in alpha, beta, a, b over Rational Field"
      ]
     },
     "metadata": {},
     "output_type": "display_data"
    }
   ],
   "source": [
    "R.<alpha,beta,a,b>=QQ[]\n",
    "show(R)"
   ]
  },
  {
   "cell_type": "code",
   "execution_count": 2,
   "id": "cece798d-e2b9-4a30-a267-77466b8c85a8",
   "metadata": {},
   "outputs": [
    {
     "data": {
      "text/plain": [
       "560*alpha*beta + 5880*alpha + 8120*beta + 85260"
      ]
     },
     "execution_count": 2,
     "metadata": {},
     "output_type": "execute_result"
    }
   ],
   "source": [
    "e=prod([29+2*alpha,4*5*7,21+2*beta])\n",
    "e"
   ]
  },
  {
   "cell_type": "code",
   "execution_count": 3,
   "id": "fee0d092-b4a9-4212-bec3-bfd5f6adba09",
   "metadata": {},
   "outputs": [
    {
     "data": {
      "text/plain": [
       "(70) * (2*beta + 21)"
      ]
     },
     "execution_count": 3,
     "metadata": {},
     "output_type": "execute_result"
    }
   ],
   "source": [
    "ScrewNumber={1:R(e/(58+4*alpha))}\n",
    "ScrewNumber[1].factor()"
   ]
  },
  {
   "cell_type": "code",
   "execution_count": 4,
   "id": "924e5e28-d2d8-4a1e-ba6b-24dccb28e9d9",
   "metadata": {},
   "outputs": [
    {
     "data": {
      "text/plain": [
       "(5) * (2*beta + 21) * (2*alpha + 1)"
      ]
     },
     "execution_count": 4,
     "metadata": {},
     "output_type": "execute_result"
    }
   ],
   "source": [
    "var('n,j', domain='integer')\n",
    "u=sum(1/(28+2*j)/(30+2*j),j,0,n-1)+1/(28+2*n)/(58+4*n)\n",
    "v=u.factor()(n=alpha)\n",
    "v=R.fraction_field()(v)\n",
    "ScrewNumber[2]=R(e*2*v)\n",
    "ScrewNumber[2].factor()"
   ]
  },
  {
   "cell_type": "code",
   "execution_count": 5,
   "id": "0066c14b-2be1-44ce-abdc-1fce940d6e3d",
   "metadata": {},
   "outputs": [
    {
     "data": {
      "text/plain": [
       "(11) * (2*beta + 21) * (2*alpha + 29)"
      ]
     },
     "execution_count": 5,
     "metadata": {},
     "output_type": "execute_result"
    }
   ],
   "source": [
    "L=[28,12,8,20]\n",
    "u=sum(1/L[j]/L[j+1] for j in [0..2])\n",
    "ScrewNumber[3]=R(e*4*u)\n",
    "ScrewNumber[3].factor()"
   ]
  },
  {
   "cell_type": "code",
   "execution_count": 6,
   "id": "7c9c81bd-c6ee-46fc-b680-99f13d3b158b",
   "metadata": {},
   "outputs": [
    {
     "data": {
      "text/plain": [
       "(7) * (2*beta + 1) * (2*alpha + 29)"
      ]
     },
     "execution_count": 6,
     "metadata": {},
     "output_type": "execute_result"
    }
   ],
   "source": [
    "u=sum(1/(20+2*j)/(22+2*j),j,0,n-1)+1/(42+4*n)/(20+2*n)\n",
    "v=u.factor()(n=beta)\n",
    "v=R.fraction_field()(v)\n",
    "ScrewNumber[4]=R(e*2*v)\n",
    "ScrewNumber[4].factor()"
   ]
  },
  {
   "cell_type": "code",
   "execution_count": 7,
   "id": "f66ee03a-c15e-43ce-bb90-902a244611ee",
   "metadata": {},
   "outputs": [
    {
     "data": {
      "text/plain": [
       "(70) * (2*alpha + 29)"
      ]
     },
     "execution_count": 7,
     "metadata": {},
     "output_type": "execute_result"
    }
   ],
   "source": [
    "ScrewNumber[5]=R(e/(42+4*beta))\n",
    "ScrewNumber[5].factor()"
   ]
  },
  {
   "cell_type": "code",
   "execution_count": 8,
   "id": "e3efc9d2-fbbe-489e-91d0-b848d631c246",
   "metadata": {},
   "outputs": [
    {
     "data": {
      "text/plain": [
       "{1: 2, 2: 2, 3: 1, 10: 5, 4: 3, 5: 3, 6: 3, 7: 3, 8: 4, 9: 4}"
      ]
     },
     "execution_count": 8,
     "metadata": {},
     "output_type": "execute_result"
    }
   ],
   "source": [
    "Edges2Bamboos={1:2, 2:2, 3:1, 10:5}\n",
    "for i in [4..7]:\n",
    "    Edges2Bamboos[i]=3\n",
    "for i in [8,9]:\n",
    "    Edges2Bamboos[i]=4\n",
    "Edges2Bamboos"
   ]
  },
  {
   "cell_type": "code",
   "execution_count": 9,
   "id": "b739591e-926e-41b7-b1ae-086a47e52869",
   "metadata": {},
   "outputs": [],
   "source": [
    "D=vector([ScrewNumber[Edges2Bamboos[i]] for i in [1..10]])\n",
    "QE=diagonal_matrix(D)"
   ]
  },
  {
   "cell_type": "code",
   "execution_count": 10,
   "id": "5f136338-ee8e-46b6-a514-e9d09168a423",
   "metadata": {},
   "outputs": [],
   "source": [
    "Base=[(4,-5),(1,5,8,-9,-6,-2),(6,-7),(-3,1,4,8,10)]\n",
    "V=R^10\n",
    "def vct(lista):\n",
    "    v=V(0)\n",
    "    for i in lista:\n",
    "        if i>0:\n",
    "            v+=V.gen(i-1)\n",
    "        if i<0:\n",
    "            v=v-V.gen(-i-1)\n",
    "    return v\n",
    "Q=Matrix(len(Base),lambda i,j:vct(Base[i])*QE*vct(Base[j]))"
   ]
  },
  {
   "cell_type": "code",
   "execution_count": 11,
   "id": "80905491-2fe3-49e3-bedd-c97b05b18571",
   "metadata": {},
   "outputs": [
    {
     "data": {
      "text/html": [
       "<html>\\[\\newcommand{\\Bold}[1]{\\mathbf{#1}}\\left(\\begin{array}{rrrr}\n",
       "88 \\alpha \\beta + 924 \\alpha + 1276 \\beta + 13398 & -44 \\alpha \\beta - 462 \\alpha - 638 \\beta - 6699 & 0 & 44 \\alpha \\beta + 462 \\alpha + 638 \\beta + 6699 \\\\\n",
       "-44 \\alpha \\beta - 462 \\alpha - 638 \\beta - 6699 & 184 \\alpha \\beta + 1372 \\alpha + 2108 \\beta + 14014 & -44 \\alpha \\beta - 462 \\alpha - 638 \\beta - 6699 & 48 \\alpha \\beta + 224 \\alpha + 416 \\beta + 308 \\\\\n",
       "0 & -44 \\alpha \\beta - 462 \\alpha - 638 \\beta - 6699 & 88 \\alpha \\beta + 924 \\alpha + 1276 \\beta + 13398 & 0 \\\\\n",
       "44 \\alpha \\beta + 462 \\alpha + 638 \\beta + 6699 & 48 \\alpha \\beta + 224 \\alpha + 416 \\beta + 308 & 0 & 92 \\alpha \\beta + 826 \\alpha + 1194 \\beta + 10507\n",
       "\\end{array}\\right)\\]</html>"
      ],
      "text/latex": [
       "$$\\newcommand{\\Bold}[1]{\\mathbf{#1}}\\left(\\begin{array}{rrrr}\n",
       "88 \\alpha \\beta + 924 \\alpha + 1276 \\beta + 13398 & -44 \\alpha \\beta - 462 \\alpha - 638 \\beta - 6699 & 0 & 44 \\alpha \\beta + 462 \\alpha + 638 \\beta + 6699 \\\\\n",
       "-44 \\alpha \\beta - 462 \\alpha - 638 \\beta - 6699 & 184 \\alpha \\beta + 1372 \\alpha + 2108 \\beta + 14014 & -44 \\alpha \\beta - 462 \\alpha - 638 \\beta - 6699 & 48 \\alpha \\beta + 224 \\alpha + 416 \\beta + 308 \\\\\n",
       "0 & -44 \\alpha \\beta - 462 \\alpha - 638 \\beta - 6699 & 88 \\alpha \\beta + 924 \\alpha + 1276 \\beta + 13398 & 0 \\\\\n",
       "44 \\alpha \\beta + 462 \\alpha + 638 \\beta + 6699 & 48 \\alpha \\beta + 224 \\alpha + 416 \\beta + 308 & 0 & 92 \\alpha \\beta + 826 \\alpha + 1194 \\beta + 10507\n",
       "\\end{array}\\right)$$"
      ],
      "text/plain": [
       "[  88*alpha*beta + 924*alpha + 1276*beta + 13398    -44*alpha*beta - 462*alpha - 638*beta - 6699                                               0     44*alpha*beta + 462*alpha + 638*beta + 6699]\n",
       "[   -44*alpha*beta - 462*alpha - 638*beta - 6699 184*alpha*beta + 1372*alpha + 2108*beta + 14014    -44*alpha*beta - 462*alpha - 638*beta - 6699      48*alpha*beta + 224*alpha + 416*beta + 308]\n",
       "[                                              0    -44*alpha*beta - 462*alpha - 638*beta - 6699   88*alpha*beta + 924*alpha + 1276*beta + 13398                                               0]\n",
       "[    44*alpha*beta + 462*alpha + 638*beta + 6699      48*alpha*beta + 224*alpha + 416*beta + 308                                               0   92*alpha*beta + 826*alpha + 1194*beta + 10507]"
      ]
     },
     "metadata": {},
     "output_type": "display_data"
    }
   ],
   "source": [
    "show(Q)"
   ]
  },
  {
   "cell_type": "code",
   "execution_count": 13,
   "id": "4f12cfea-a7cd-4e1b-90f0-e184a6015f09",
   "metadata": {},
   "outputs": [
    {
     "data": {
      "text/html": [
       "<html>\\[\\newcommand{\\Bold}[1]{\\mathbf{#1}}\\left(\\begin{array}{rrrr}\n",
       "22 a b + 440 a + 616 b + 12320 & -11 a b - 220 a - 308 b - 6160 & 0 & 11 a b + 220 a + 308 b + 6160 \\\\\n",
       "-11 a b - 220 a - 308 b - 6160 & 46 a b + 640 a + 1008 b + 12320 & -11 a b - 220 a - 308 b - 6160 & 12 a b + 100 a + 196 b \\\\\n",
       "0 & -11 a b - 220 a - 308 b - 6160 & 22 a b + 440 a + 616 b + 12320 & 0 \\\\\n",
       "11 a b + 220 a + 308 b + 6160 & 12 a b + 100 a + 196 b & 0 & 23 a b + 390 a + 574 b + 9520\n",
       "\\end{array}\\right)\\]</html>"
      ],
      "text/latex": [
       "$$\\newcommand{\\Bold}[1]{\\mathbf{#1}}\\left(\\begin{array}{rrrr}\n",
       "22 a b + 440 a + 616 b + 12320 & -11 a b - 220 a - 308 b - 6160 & 0 & 11 a b + 220 a + 308 b + 6160 \\\\\n",
       "-11 a b - 220 a - 308 b - 6160 & 46 a b + 640 a + 1008 b + 12320 & -11 a b - 220 a - 308 b - 6160 & 12 a b + 100 a + 196 b \\\\\n",
       "0 & -11 a b - 220 a - 308 b - 6160 & 22 a b + 440 a + 616 b + 12320 & 0 \\\\\n",
       "11 a b + 220 a + 308 b + 6160 & 12 a b + 100 a + 196 b & 0 & 23 a b + 390 a + 574 b + 9520\n",
       "\\end{array}\\right)$$"
      ],
      "text/plain": [
       "[ 22*a*b + 440*a + 616*b + 12320  -11*a*b - 220*a - 308*b - 6160                               0   11*a*b + 220*a + 308*b + 6160]\n",
       "[ -11*a*b - 220*a - 308*b - 6160 46*a*b + 640*a + 1008*b + 12320  -11*a*b - 220*a - 308*b - 6160          12*a*b + 100*a + 196*b]\n",
       "[                              0  -11*a*b - 220*a - 308*b - 6160  22*a*b + 440*a + 616*b + 12320                               0]\n",
       "[  11*a*b + 220*a + 308*b + 6160          12*a*b + 100*a + 196*b                               0   23*a*b + 390*a + 574*b + 9520]"
      ]
     },
     "metadata": {},
     "output_type": "display_data"
    }
   ],
   "source": [
    "Qab=Q(alpha=(a-1)/2,beta=(b-1)/2)\n",
    "show(Qab)"
   ]
  },
  {
   "cell_type": "code",
   "execution_count": null,
   "id": "398440e1-ebe1-4c43-a625-1f3b69efe19d",
   "metadata": {},
   "outputs": [],
   "source": []
  }
 ],
 "metadata": {
  "kernelspec": {
   "display_name": "SageMath 9.5.beta4",
   "language": "sage",
   "name": "sagemath"
  },
  "language_info": {
   "codemirror_mode": {
    "name": "ipython",
    "version": 3
   },
   "file_extension": ".py",
   "mimetype": "text/x-python",
   "name": "python",
   "nbconvert_exporter": "python",
   "pygments_lexer": "ipython3",
   "version": "3.9.7"
  }
 },
 "nbformat": 4,
 "nbformat_minor": 5
}
